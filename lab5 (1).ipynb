{
  "cells": [
    {
      "cell_type": "markdown",
      "id": "unexpected-basics",
      "metadata": {
        "id": "unexpected-basics"
      },
      "source": [
        "# Classification\n",
        "\n",
        "Classification task using fastText."
      ]
    },
    {
      "cell_type": "code",
      "source": [
        "!git clone https://github.com/facebookresearch/fastText.git\n"
      ],
      "metadata": {
        "colab": {
          "base_uri": "https://localhost:8080/"
        },
        "id": "_SFF-jVV2trz",
        "outputId": "fbbfda23-6c8a-4be2-c5aa-e3ea259b34ed"
      },
      "id": "_SFF-jVV2trz",
      "execution_count": 1,
      "outputs": [
        {
          "output_type": "stream",
          "name": "stdout",
          "text": [
            "Cloning into 'fastText'...\n",
            "remote: Enumerating objects: 3998, done.\u001b[K\n",
            "remote: Counting objects: 100% (1026/1026), done.\u001b[K\n",
            "remote: Compressing objects: 100% (195/195), done.\u001b[K\n",
            "remote: Total 3998 (delta 890), reused 860 (delta 826), pack-reused 2972\u001b[K\n",
            "Receiving objects: 100% (3998/3998), 8.30 MiB | 12.51 MiB/s, done.\n",
            "Resolving deltas: 100% (2528/2528), done.\n"
          ]
        }
      ]
    },
    {
      "cell_type": "code",
      "source": [
        "%cd fastText\n",
        "!make"
      ],
      "metadata": {
        "colab": {
          "base_uri": "https://localhost:8080/"
        },
        "id": "fgu5r6Kc2u8G",
        "outputId": "17f9439f-cf95-42a0-e2f7-6ef40ff3dde8"
      },
      "id": "fgu5r6Kc2u8G",
      "execution_count": 2,
      "outputs": [
        {
          "output_type": "stream",
          "name": "stdout",
          "text": [
            "/content/fastText\n",
            "c++ -pthread -std=c++17 -march=native -O3 -funroll-loops -DNDEBUG -c src/args.cc\n",
            "c++ -pthread -std=c++17 -march=native -O3 -funroll-loops -DNDEBUG -c src/autotune.cc\n",
            "c++ -pthread -std=c++17 -march=native -O3 -funroll-loops -DNDEBUG -c src/matrix.cc\n",
            "c++ -pthread -std=c++17 -march=native -O3 -funroll-loops -DNDEBUG -c src/dictionary.cc\n",
            "c++ -pthread -std=c++17 -march=native -O3 -funroll-loops -DNDEBUG -c src/loss.cc\n",
            "c++ -pthread -std=c++17 -march=native -O3 -funroll-loops -DNDEBUG -c src/productquantizer.cc\n",
            "c++ -pthread -std=c++17 -march=native -O3 -funroll-loops -DNDEBUG -c src/densematrix.cc\n",
            "c++ -pthread -std=c++17 -march=native -O3 -funroll-loops -DNDEBUG -c src/quantmatrix.cc\n",
            "c++ -pthread -std=c++17 -march=native -O3 -funroll-loops -DNDEBUG -c src/vector.cc\n",
            "c++ -pthread -std=c++17 -march=native -O3 -funroll-loops -DNDEBUG -c src/model.cc\n",
            "c++ -pthread -std=c++17 -march=native -O3 -funroll-loops -DNDEBUG -c src/utils.cc\n",
            "c++ -pthread -std=c++17 -march=native -O3 -funroll-loops -DNDEBUG -c src/meter.cc\n",
            "c++ -pthread -std=c++17 -march=native -O3 -funroll-loops -DNDEBUG -c src/fasttext.cc\n",
            "c++ -pthread -std=c++17 -march=native -O3 -funroll-loops -DNDEBUG args.o autotune.o matrix.o dictionary.o loss.o productquantizer.o densematrix.o quantmatrix.o vector.o model.o utils.o meter.o fasttext.o src/main.cc -o fasttext\n"
          ]
        }
      ]
    },
    {
      "cell_type": "code",
      "source": [
        "!pwd"
      ],
      "metadata": {
        "colab": {
          "base_uri": "https://localhost:8080/"
        },
        "id": "CJHp1V4k21QY",
        "outputId": "f09bc3ee-5f2a-4897-9bee-7fb4bfd07514"
      },
      "id": "CJHp1V4k21QY",
      "execution_count": 10,
      "outputs": [
        {
          "output_type": "stream",
          "name": "stdout",
          "text": [
            "/content/fastText\n"
          ]
        }
      ]
    },
    {
      "cell_type": "code",
      "source": [
        "%cd .."
      ],
      "metadata": {
        "colab": {
          "base_uri": "https://localhost:8080/"
        },
        "id": "6-vWWiHb29EC",
        "outputId": "cbef9bc6-92b1-4a21-88c6-e6268b98d72b"
      },
      "id": "6-vWWiHb29EC",
      "execution_count": 19,
      "outputs": [
        {
          "output_type": "stream",
          "name": "stdout",
          "text": [
            "/content\n"
          ]
        }
      ]
    },
    {
      "cell_type": "code",
      "source": [
        "!ls"
      ],
      "metadata": {
        "colab": {
          "base_uri": "https://localhost:8080/"
        },
        "id": "9H0Gfo7Q3h59",
        "outputId": "9b252247-c9e7-4ed8-8506-7a047a9d95b9"
      },
      "id": "9H0Gfo7Q3h59",
      "execution_count": 28,
      "outputs": [
        {
          "output_type": "stream",
          "name": "stdout",
          "text": [
            "fastText  sample_data\n"
          ]
        }
      ]
    },
    {
      "cell_type": "code",
      "source": [
        "%cd fastText\n",
        "!ls"
      ],
      "metadata": {
        "colab": {
          "base_uri": "https://localhost:8080/"
        },
        "id": "TNbUE3VK4Gtm",
        "outputId": "be73091b-20bf-4680-ca57-e887ac4f88d5"
      },
      "id": "TNbUE3VK4Gtm",
      "execution_count": 29,
      "outputs": [
        {
          "output_type": "stream",
          "name": "stdout",
          "text": [
            "/content/fastText\n",
            "alignment\t\t   download_model.py  model.o\t\t       setup.py\n",
            "args.o\t\t\t   eval.py\t      PACKAGE\t\t       src\n",
            "autotune.o\t\t   fasttext\t      productquantizer.o       tests\n",
            "classification-example.sh  fasttext.o\t      pyproject.toml\t       utils.o\n",
            "classification-results.sh  fasttext.pc.in     python\t\t       vector.o\n",
            "CMakeLists.txt\t\t   get-wikimedia.sh   quantization-example.sh  webassembly\n",
            "CODE_OF_CONDUCT.md\t   LICENSE\t      quantmatrix.o\t       website\n",
            "CONTRIBUTING.md\t\t   loss.o\t      README.md\t\t       wikifil.pl\n",
            "crawl\t\t\t   Makefile\t      reduce_model.py\t       word-vector-example.sh\n",
            "densematrix.o\t\t   MANIFEST.in\t      runtests.py\n",
            "dictionary.o\t\t   matrix.o\t      scripts\n",
            "docs\t\t\t   meter.o\t      setup.cfg\n"
          ]
        }
      ]
    },
    {
      "cell_type": "markdown",
      "id": "shared-liabilities",
      "metadata": {
        "id": "shared-liabilities"
      },
      "source": [
        "## 1. humor detection"
      ]
    },
    {
      "cell_type": "code",
      "source": [
        "!wget https://raw.githubusercontent.com/jungyeul/computational-tools-for-linguistic-analysis-ubc/main/labs/lab5/humor-detection_train.txt"
      ],
      "metadata": {
        "colab": {
          "base_uri": "https://localhost:8080/"
        },
        "id": "eUEB0HGQ5MQT",
        "outputId": "d9e94ef7-9bd0-4d34-fe5d-1d108e97ebdc"
      },
      "id": "eUEB0HGQ5MQT",
      "execution_count": 31,
      "outputs": [
        {
          "output_type": "stream",
          "name": "stdout",
          "text": [
            "--2024-04-04 20:55:04--  https://raw.githubusercontent.com/jungyeul/computational-tools-for-linguistic-analysis-ubc/main/labs/lab5/humor-detection_train.txt\n",
            "Resolving raw.githubusercontent.com (raw.githubusercontent.com)... 185.199.109.133, 185.199.108.133, 185.199.110.133, ...\n",
            "Connecting to raw.githubusercontent.com (raw.githubusercontent.com)|185.199.109.133|:443... connected.\n",
            "HTTP request sent, awaiting response... 200 OK\n",
            "Length: 1247724 (1.2M) [text/plain]\n",
            "Saving to: ‘humor-detection_train.txt’\n",
            "\n",
            "humor-detection_tra 100%[===================>]   1.19M  --.-KB/s    in 0.08s   \n",
            "\n",
            "2024-04-04 20:55:05 (14.3 MB/s) - ‘humor-detection_train.txt’ saved [1247724/1247724]\n",
            "\n"
          ]
        }
      ]
    },
    {
      "cell_type": "code",
      "execution_count": 32,
      "id": "forced-channels",
      "metadata": {
        "colab": {
          "base_uri": "https://localhost:8080/"
        },
        "id": "forced-channels",
        "outputId": "9cc32856-d384-436c-de2e-5939e17970ee"
      },
      "outputs": [
        {
          "output_type": "stream",
          "name": "stdout",
          "text": [
            "\rRead 0M words\n",
            "Number of words:  31831\n",
            "Number of labels: 2\n",
            "Progress: 100.0% words/sec/thread:  290522 lr:  0.000000 avg.loss:  0.117616 ETA:   0h 0m 0s\n"
          ]
        }
      ],
      "source": [
        "! ./fasttext supervised -input humor-detection_train.txt -output model_humor"
      ]
    },
    {
      "cell_type": "code",
      "source": [
        "!wget https://raw.githubusercontent.com/jungyeul/computational-tools-for-linguistic-analysis-ubc/main/labs/lab5/humor-detection_test.txt"
      ],
      "metadata": {
        "colab": {
          "base_uri": "https://localhost:8080/"
        },
        "id": "9pU4eiXh5PZs",
        "outputId": "e4c7a099-a246-4593-8c44-808db71a4762"
      },
      "id": "9pU4eiXh5PZs",
      "execution_count": 33,
      "outputs": [
        {
          "output_type": "stream",
          "name": "stdout",
          "text": [
            "--2024-04-04 20:55:56--  https://raw.githubusercontent.com/jungyeul/computational-tools-for-linguistic-analysis-ubc/main/labs/lab5/humor-detection_test.txt\n",
            "Resolving raw.githubusercontent.com (raw.githubusercontent.com)... 185.199.111.133, 185.199.110.133, 185.199.109.133, ...\n",
            "Connecting to raw.githubusercontent.com (raw.githubusercontent.com)|185.199.111.133|:443... connected.\n",
            "HTTP request sent, awaiting response... 200 OK\n",
            "Length: 309967 (303K) [text/plain]\n",
            "Saving to: ‘humor-detection_test.txt’\n",
            "\n",
            "humor-detection_tes 100%[===================>] 302.70K  --.-KB/s    in 0.05s   \n",
            "\n",
            "2024-04-04 20:55:57 (6.21 MB/s) - ‘humor-detection_test.txt’ saved [309967/309967]\n",
            "\n"
          ]
        }
      ]
    },
    {
      "cell_type": "code",
      "source": [
        "! ./fasttext test model_humor.bin humor-detection_test.txt\n"
      ],
      "metadata": {
        "colab": {
          "base_uri": "https://localhost:8080/"
        },
        "id": "0xsw9Rtb5aQu",
        "outputId": "f37b37b3-8aa0-416b-8cdf-96b215d0d138"
      },
      "id": "0xsw9Rtb5aQu",
      "execution_count": 35,
      "outputs": [
        {
          "output_type": "stream",
          "name": "stdout",
          "text": [
            "N\t3355\n",
            "P@1\t0.956\n",
            "R@1\t0.956\n"
          ]
        }
      ]
    },
    {
      "cell_type": "code",
      "source": [
        "!head humor-detection_train.txt\n"
      ],
      "metadata": {
        "colab": {
          "base_uri": "https://localhost:8080/"
        },
        "id": "XSpLu4K-5p_U",
        "outputId": "628a2c5e-ea24-4436-da89-5224dca9886f"
      },
      "id": "XSpLu4K-5p_U",
      "execution_count": 37,
      "outputs": [
        {
          "output_type": "stream",
          "name": "stdout",
          "text": [
            "__label__true\tMy grandfather died recently, He spent his final years as a regular user of facebook..We won't see the likes of him again.\n",
            "__label__true\tI was sat in traffic the other day. Got hit by a car.\n",
            "__label__true\tWhats the difference between a ginger fanny and a cricket ball? If you try really hard, Really really hard, You can eat a cricket ball.\n",
            "__label__true\tMoney can't buy happiness, but I'd much rather cry in a mansion.\n",
            "__label__true\t2B or not 2B. That is the pencil.\n",
            "__label__true\tWhat's the difference between a Jew and a canoe? Canoes tip!\n",
            "__label__true\tI've just won 10 million on the lottery and decided to buy my local Chinese takeaway called 'Happiness'.  Your move, philosophers.\n",
            "__label__true\tA man was hospitalized with 6 plastic horses up his ass. The doctor described his condition as stable.\n",
            "__label__true\tJust told my joke about Peter Pan again. Never gets old.\n",
            "__label__true\tTwo blondes were driving to Disneyland and the exit sign reads: DISNEYLAND LEFT. They started crying and headed home.\n"
          ]
        }
      ]
    },
    {
      "cell_type": "code",
      "source": [
        "%cd .."
      ],
      "metadata": {
        "colab": {
          "base_uri": "https://localhost:8080/"
        },
        "id": "buDoGdM65ylw",
        "outputId": "3e3be678-d1f5-4500-b3e1-8468ab64016b"
      },
      "id": "buDoGdM65ylw",
      "execution_count": 42,
      "outputs": [
        {
          "output_type": "stream",
          "name": "stdout",
          "text": [
            "/content\n"
          ]
        }
      ]
    },
    {
      "cell_type": "code",
      "source": [
        "!wget https://raw.githubusercontent.com/jungyeul/computational-tools-for-linguistic-analysis-ubc/main/labs/lab5/shuffle.c"
      ],
      "metadata": {
        "colab": {
          "base_uri": "https://localhost:8080/"
        },
        "id": "cHyKln2e6dpy",
        "outputId": "f290bd54-a923-4350-a64d-a1ef23cb7958"
      },
      "id": "cHyKln2e6dpy",
      "execution_count": 44,
      "outputs": [
        {
          "output_type": "stream",
          "name": "stdout",
          "text": [
            "--2024-04-04 21:00:38--  https://raw.githubusercontent.com/jungyeul/computational-tools-for-linguistic-analysis-ubc/main/labs/lab5/shuffle.c\n",
            "Resolving raw.githubusercontent.com (raw.githubusercontent.com)... 185.199.108.133, 185.199.109.133, 185.199.110.133, ...\n",
            "Connecting to raw.githubusercontent.com (raw.githubusercontent.com)|185.199.108.133|:443... connected.\n",
            "HTTP request sent, awaiting response... 200 OK\n",
            "Length: 3595 (3.5K) [text/plain]\n",
            "Saving to: ‘shuffle.c’\n",
            "\n",
            "\rshuffle.c             0%[                    ]       0  --.-KB/s               \rshuffle.c           100%[===================>]   3.51K  --.-KB/s    in 0s      \n",
            "\n",
            "2024-04-04 21:00:39 (31.9 MB/s) - ‘shuffle.c’ saved [3595/3595]\n",
            "\n"
          ]
        }
      ]
    },
    {
      "cell_type": "code",
      "source": [
        "!gcc -o shuffle shuffle.c"
      ],
      "metadata": {
        "id": "Zu8NsBW452_y"
      },
      "id": "Zu8NsBW452_y",
      "execution_count": 45,
      "outputs": []
    },
    {
      "cell_type": "code",
      "source": [
        "!wget https://raw.githubusercontent.com/jungyeul/computational-tools-for-linguistic-analysis-ubc/main/labs/lab5/humor-detection_train.txt\n",
        "!wget https://raw.githubusercontent.com/jungyeul/computational-tools-for-linguistic-analysis-ubc/main/labs/lab5/humor-detection_test.txt"
      ],
      "metadata": {
        "colab": {
          "base_uri": "https://localhost:8080/"
        },
        "id": "X771DKn-6sJc",
        "outputId": "c0148cd8-5c77-4e60-db8b-467aea035e03"
      },
      "id": "X771DKn-6sJc",
      "execution_count": 47,
      "outputs": [
        {
          "output_type": "stream",
          "name": "stdout",
          "text": [
            "--2024-04-04 21:01:56--  https://raw.githubusercontent.com/jungyeul/computational-tools-for-linguistic-analysis-ubc/main/labs/lab5/humor-detection_train.txt\n",
            "Resolving raw.githubusercontent.com (raw.githubusercontent.com)... 185.199.108.133, 185.199.109.133, 185.199.110.133, ...\n",
            "Connecting to raw.githubusercontent.com (raw.githubusercontent.com)|185.199.108.133|:443... connected.\n",
            "HTTP request sent, awaiting response... 200 OK\n",
            "Length: 1247724 (1.2M) [text/plain]\n",
            "Saving to: ‘humor-detection_train.txt’\n",
            "\n",
            "humor-detection_tra 100%[===================>]   1.19M  --.-KB/s    in 0.08s   \n",
            "\n",
            "2024-04-04 21:01:57 (15.3 MB/s) - ‘humor-detection_train.txt’ saved [1247724/1247724]\n",
            "\n",
            "--2024-04-04 21:01:57--  https://raw.githubusercontent.com/jungyeul/computational-tools-for-linguistic-analysis-ubc/main/labs/lab5/humor-detection_test.txt\n",
            "Resolving raw.githubusercontent.com (raw.githubusercontent.com)... 185.199.108.133, 185.199.109.133, 185.199.110.133, ...\n",
            "Connecting to raw.githubusercontent.com (raw.githubusercontent.com)|185.199.108.133|:443... connected.\n",
            "HTTP request sent, awaiting response... 200 OK\n",
            "Length: 309967 (303K) [text/plain]\n",
            "Saving to: ‘humor-detection_test.txt’\n",
            "\n",
            "humor-detection_tes 100%[===================>] 302.70K  --.-KB/s    in 0.05s   \n",
            "\n",
            "2024-04-04 21:01:57 (6.40 MB/s) - ‘humor-detection_test.txt’ saved [309967/309967]\n",
            "\n"
          ]
        }
      ]
    },
    {
      "cell_type": "code",
      "source": [
        "!./shuffle < humor-detection_train.txt > humor-detection_train_shuffled.txt"
      ],
      "metadata": {
        "id": "iHIyjIAx6iGu"
      },
      "id": "iHIyjIAx6iGu",
      "execution_count": 48,
      "outputs": []
    },
    {
      "cell_type": "code",
      "source": [
        "%cd fastText"
      ],
      "metadata": {
        "colab": {
          "base_uri": "https://localhost:8080/"
        },
        "id": "vPf3nMkQ60Ae",
        "outputId": "05711aa3-307d-4a77-a871-fe921e8785c6"
      },
      "id": "vPf3nMkQ60Ae",
      "execution_count": 49,
      "outputs": [
        {
          "output_type": "stream",
          "name": "stdout",
          "text": [
            "/content/fastText\n"
          ]
        }
      ]
    },
    {
      "cell_type": "code",
      "source": [
        "!./fasttext supervised -input ../humor-detection_train_shuffled.txt -output model_humor_shuffled\n"
      ],
      "metadata": {
        "colab": {
          "base_uri": "https://localhost:8080/"
        },
        "id": "5AuPy56s64DW",
        "outputId": "57f1c081-a911-4e74-dd28-db7a410452a8"
      },
      "id": "5AuPy56s64DW",
      "execution_count": 50,
      "outputs": [
        {
          "output_type": "stream",
          "name": "stdout",
          "text": [
            "\rRead 0M words\n",
            "Number of words:  31831\n",
            "Number of labels: 2\n",
            "Progress: 100.0% words/sec/thread:  295388 lr:  0.000000 avg.loss:  0.177286 ETA:   0h 0m 0s\n"
          ]
        }
      ]
    },
    {
      "cell_type": "code",
      "source": [
        "!./fasttext test model_humor_shuffled.bin ../humor-detection_test.txt"
      ],
      "metadata": {
        "colab": {
          "base_uri": "https://localhost:8080/"
        },
        "id": "obxZf8Qx6-sa",
        "outputId": "2879e754-81b6-4e2a-e88c-3d135cb51946"
      },
      "id": "obxZf8Qx6-sa",
      "execution_count": 51,
      "outputs": [
        {
          "output_type": "stream",
          "name": "stdout",
          "text": [
            "N\t3355\n",
            "P@1\t0.958\n",
            "R@1\t0.958\n"
          ]
        }
      ]
    },
    {
      "cell_type": "code",
      "source": [
        "!head ../humor-detection_train_shuffled.txt\n"
      ],
      "metadata": {
        "colab": {
          "base_uri": "https://localhost:8080/"
        },
        "id": "CUwFAl0a7AFI",
        "outputId": "d83281fb-230f-42d3-a56c-0dd25926e3c2"
      },
      "id": "CUwFAl0a7AFI",
      "execution_count": 52,
      "outputs": [
        {
          "output_type": "stream",
          "name": "stdout",
          "text": [
            "__label__false\tBecause of this , they are commonly used as guide dogs , mobility assistance dogs , and search and rescue dogs.\n",
            "__label__false\tThere are also two shops , a chemist , a Chinese take away , a butcher and a post office and florist.\n",
            "__label__true\tWho's the coolest guy at the hospital? The ultrasound guy.\n",
            "__label__false\tIn 1994 , Rau tried for the first time to become Federal President , but lost to Roman Herzog.\n",
            "__label__false\tBritain's unions ready to join fight to stay in European Union, top official says \n",
            "__label__true\tA duck goes into a shop and asks for a tube of ChapStick. The Cashier says \"That'll be £1.50 please.The Duck says \"Just put it on my bill\"\n",
            "__label__true\tHow many ants does it take to rent a house? Ten ants\n",
            "__label__false\tKerry and Abbas to meet in Jordan in Sunday \n",
            "__label__true\tPut a \"no U-turn\" sign in a dead-end street.\n",
            "__label__false\tChinese investor bidding for Philips lighting division: Bloomberg  \n"
          ]
        }
      ]
    },
    {
      "cell_type": "markdown",
      "id": "appropriate-scene",
      "metadata": {
        "id": "appropriate-scene"
      },
      "source": [
        "## 2. sarcasm detection"
      ]
    },
    {
      "cell_type": "code",
      "source": [
        "%cd .."
      ],
      "metadata": {
        "colab": {
          "base_uri": "https://localhost:8080/"
        },
        "id": "6qUew5wrAsiy",
        "outputId": "7b4f311d-f31a-4326-aed0-beda94629179"
      },
      "id": "6qUew5wrAsiy",
      "execution_count": 56,
      "outputs": [
        {
          "output_type": "stream",
          "name": "stdout",
          "text": [
            "/content\n"
          ]
        }
      ]
    },
    {
      "cell_type": "code",
      "execution_count": 57,
      "id": "falling-exclusion",
      "metadata": {
        "colab": {
          "base_uri": "https://localhost:8080/"
        },
        "id": "falling-exclusion",
        "outputId": "128d420c-fbe9-4a16-9e46-5c3343b7b5a0"
      },
      "outputs": [
        {
          "output_type": "stream",
          "name": "stdout",
          "text": [
            "--2024-04-04 21:27:54--  https://raw.githubusercontent.com/jungyeul/computational-tools-for-linguistic-analysis-ubc/main/labs/lab5/sarcasm-detection_train.txt\n",
            "Resolving raw.githubusercontent.com (raw.githubusercontent.com)... 185.199.108.133, 185.199.109.133, 185.199.110.133, ...\n",
            "Connecting to raw.githubusercontent.com (raw.githubusercontent.com)|185.199.108.133|:443... connected.\n",
            "HTTP request sent, awaiting response... 200 OK\n",
            "Length: 1633310 (1.6M) [text/plain]\n",
            "Saving to: ‘sarcasm-detection_train.txt’\n",
            "\n",
            "\r          sarcasm-d   0%[                    ]       0  --.-KB/s               \rsarcasm-detection_t 100%[===================>]   1.56M  --.-KB/s    in 0.08s   \n",
            "\n",
            "2024-04-04 21:27:54 (19.0 MB/s) - ‘sarcasm-detection_train.txt’ saved [1633310/1633310]\n",
            "\n",
            "--2024-04-04 21:27:54--  https://raw.githubusercontent.com/jungyeul/computational-tools-for-linguistic-analysis-ubc/main/labs/lab5/sarcasm-detection_test.txt\n",
            "Resolving raw.githubusercontent.com (raw.githubusercontent.com)... 185.199.108.133, 185.199.109.133, 185.199.110.133, ...\n",
            "Connecting to raw.githubusercontent.com (raw.githubusercontent.com)|185.199.108.133|:443... connected.\n",
            "HTTP request sent, awaiting response... 200 OK\n",
            "Length: 410781 (401K) [text/plain]\n",
            "Saving to: ‘sarcasm-detection_test.txt’\n",
            "\n",
            "sarcasm-detection_t 100%[===================>] 401.15K  --.-KB/s    in 0.05s   \n",
            "\n",
            "2024-04-04 21:27:54 (7.20 MB/s) - ‘sarcasm-detection_test.txt’ saved [410781/410781]\n",
            "\n"
          ]
        }
      ],
      "source": [
        "!wget https://raw.githubusercontent.com/jungyeul/computational-tools-for-linguistic-analysis-ubc/main/labs/lab5/sarcasm-detection_train.txt\n",
        "!wget https://raw.githubusercontent.com/jungyeul/computational-tools-for-linguistic-analysis-ubc/main/labs/lab5/sarcasm-detection_test.txt"
      ]
    },
    {
      "cell_type": "code",
      "source": [
        "%cd fastText"
      ],
      "metadata": {
        "colab": {
          "base_uri": "https://localhost:8080/"
        },
        "id": "_oTiSnQLAuX-",
        "outputId": "5ddb6120-f453-4876-befd-ec0841ee93bc"
      },
      "id": "_oTiSnQLAuX-",
      "execution_count": 58,
      "outputs": [
        {
          "output_type": "stream",
          "name": "stdout",
          "text": [
            "/content/fastText\n"
          ]
        }
      ]
    },
    {
      "cell_type": "code",
      "source": [
        "!./fasttext supervised -input ../sarcasm-detection_train.txt -output model_sarcasm"
      ],
      "metadata": {
        "colab": {
          "base_uri": "https://localhost:8080/"
        },
        "id": "KoSQAeQ9Aija",
        "outputId": "ef98ad9c-2acf-4993-9d4c-64fb9ca3b185"
      },
      "id": "KoSQAeQ9Aija",
      "execution_count": 59,
      "outputs": [
        {
          "output_type": "stream",
          "name": "stdout",
          "text": [
            "\rRead 0M words\n",
            "Number of words:  32149\n",
            "Number of labels: 2\n",
            "Progress: 100.0% words/sec/thread:  349941 lr:  0.000000 avg.loss:  0.248209 ETA:   0h 0m 0s\n"
          ]
        }
      ]
    },
    {
      "cell_type": "code",
      "source": [
        "!./fasttext test model_sarcasm.bin ../sarcasm-detection_test.txt\n"
      ],
      "metadata": {
        "colab": {
          "base_uri": "https://localhost:8080/"
        },
        "id": "Tz8Wj1k6AlwG",
        "outputId": "be627120-0442-43e8-c21e-7f6104fe79cf"
      },
      "id": "Tz8Wj1k6AlwG",
      "execution_count": 60,
      "outputs": [
        {
          "output_type": "stream",
          "name": "stdout",
          "text": [
            "N\t5342\n",
            "P@1\t0.846\n",
            "R@1\t0.846\n"
          ]
        }
      ]
    },
    {
      "cell_type": "code",
      "source": [
        "!head ../sarcasm-detection_train.txt"
      ],
      "metadata": {
        "colab": {
          "base_uri": "https://localhost:8080/"
        },
        "id": "7pAmBNLBA13x",
        "outputId": "a0c73f19-5367-46f3-b273-259cb4e86b94"
      },
      "id": "7pAmBNLBA13x",
      "execution_count": 61,
      "outputs": [
        {
          "output_type": "stream",
          "name": "stdout",
          "text": [
            "__label__false former versace store clerk sues over secret 'black code' for minority shoppers\n",
            "__label__false the 'roseanne' revival catches up to our thorny political mood, for better and worse\n",
            "__label__true mom starting to fear son's web series closest thing she will have to grandchild\n",
            "__label__true boehner just wants wife to listen, not come up with alternative debt-reduction ideas\n",
            "__label__false j.k. rowling wishes snape happy birthday in the most magical way\n",
            "__label__false advancing the world's women\n",
            "__label__false the fascinating case for eating lab-grown meat\n",
            "__label__false this ceo will send your kids to school, if you work for his company\n",
            "__label__true top snake handler leaves sinking huckabee campaign\n",
            "__label__false friday's morning email: inside trump's presser for the ages\n"
          ]
        }
      ]
    },
    {
      "cell_type": "code",
      "source": [
        "%cd .."
      ],
      "metadata": {
        "colab": {
          "base_uri": "https://localhost:8080/"
        },
        "id": "oOzsLbuUA4Rj",
        "outputId": "1dc7a53a-2032-4653-f71d-d62b39e4e575"
      },
      "id": "oOzsLbuUA4Rj",
      "execution_count": 62,
      "outputs": [
        {
          "output_type": "stream",
          "name": "stdout",
          "text": [
            "/content\n"
          ]
        }
      ]
    },
    {
      "cell_type": "code",
      "source": [
        "!./shuffle < sarcasm-detection_train.txt > sarcasm-detection_train_shuffled.txt\n"
      ],
      "metadata": {
        "id": "g8Q3fqLKA6LQ"
      },
      "id": "g8Q3fqLKA6LQ",
      "execution_count": 64,
      "outputs": []
    },
    {
      "cell_type": "code",
      "source": [
        "%cd fastText\n",
        "!./fasttext supervised -input ../sarcasm-detection_train_shuffled.txt -output model_sarcasm_shuffled\n"
      ],
      "metadata": {
        "colab": {
          "base_uri": "https://localhost:8080/"
        },
        "id": "uqV9HKYZA_9n",
        "outputId": "6df2f89e-2d4f-447f-f630-77b10e2e5023"
      },
      "id": "uqV9HKYZA_9n",
      "execution_count": 65,
      "outputs": [
        {
          "output_type": "stream",
          "name": "stdout",
          "text": [
            "/content/fastText\n",
            "Read 0M words\n",
            "Number of words:  32149\n",
            "Number of labels: 2\n",
            "Progress: 100.0% words/sec/thread:  341760 lr:  0.000000 avg.loss:  0.293108 ETA:   0h 0m 0s\n"
          ]
        }
      ]
    },
    {
      "cell_type": "code",
      "source": [
        "!./fasttext test model_sarcasm_shuffled.bin ../sarcasm-detection_test.txt"
      ],
      "metadata": {
        "colab": {
          "base_uri": "https://localhost:8080/"
        },
        "id": "3hC8k4DnBCTm",
        "outputId": "0c413cf6-aec6-428d-88aa-11c6a95e1184"
      },
      "id": "3hC8k4DnBCTm",
      "execution_count": 66,
      "outputs": [
        {
          "output_type": "stream",
          "name": "stdout",
          "text": [
            "N\t5342\n",
            "P@1\t0.847\n",
            "R@1\t0.847\n"
          ]
        }
      ]
    },
    {
      "cell_type": "code",
      "source": [
        "!head ../sarcasm-detection_train_shuffled.txt"
      ],
      "metadata": {
        "colab": {
          "base_uri": "https://localhost:8080/"
        },
        "id": "p3Z3fSnKBFrV",
        "outputId": "511b40fd-5958-48e8-97fc-9336b4956d5d"
      },
      "id": "p3Z3fSnKBFrV",
      "execution_count": 67,
      "outputs": [
        {
          "output_type": "stream",
          "name": "stdout",
          "text": [
            "__label__false radio host pranks the $%#& out of co-host\n",
            "__label__true city councilman from future warns against building 12th avenue rec center\n",
            "__label__false hall & oates inducted into rock and roll hall of fame (video)\n",
            "__label__true risk champ flunks geography test\n",
            "__label__false man stuffs cash into shirt of gop congressman who voted to repeal obamacare\n",
            "__label__true 'you got it\\\\u0099' trademarked\n",
            "__label__false the importance of first responders\n",
            "__label__false james foley, missing american photojournalist, beheaded by isis\n",
            "__label__false trump's cabinet picks pave the way for a nihilistic future\n",
            "__label__false iran counts votes after big turnout in presidential election\n"
          ]
        }
      ]
    },
    {
      "cell_type": "markdown",
      "metadata": {
        "id": "BNubMMrd2l30"
      },
      "source": [
        "## 3. sentiment analysis on movie reviews (4pts)\n",
        "You prepare the data (`sentiment-analysis-on-movie-reviews-refined.txt`) for *fastText* using the series of shell command."
      ],
      "id": "BNubMMrd2l30"
    },
    {
      "cell_type": "code",
      "execution_count": 68,
      "metadata": {
        "colab": {
          "base_uri": "https://localhost:8080/"
        },
        "id": "zk5oKY402l31",
        "outputId": "e9bd1445-da93-4956-d4f9-e23baef05aa4"
      },
      "outputs": [
        {
          "output_type": "stream",
          "name": "stdout",
          "text": [
            "/content\n"
          ]
        }
      ],
      "source": [
        "%cd .."
      ],
      "id": "zk5oKY402l31"
    },
    {
      "cell_type": "code",
      "source": [
        "!wget https://raw.githubusercontent.com/jungyeul/computational-tools-for-linguistic-analysis-ubc/main/labs/lab5/sentiment-analysis-on-movie-reviews-refined.txt\n",
        "!head sentiment-analysis-on-movie-reviews-refined.txt\n"
      ],
      "metadata": {
        "colab": {
          "base_uri": "https://localhost:8080/"
        },
        "id": "ymkC72zmBMpY",
        "outputId": "3de08e4e-18f8-4a4f-d79c-f0aa29c93595"
      },
      "id": "ymkC72zmBMpY",
      "execution_count": 71,
      "outputs": [
        {
          "output_type": "stream",
          "name": "stdout",
          "text": [
            "--2024-04-04 21:30:42--  https://raw.githubusercontent.com/jungyeul/computational-tools-for-linguistic-analysis-ubc/main/labs/lab5/sentiment-analysis-on-movie-reviews-refined.txt\n",
            "Resolving raw.githubusercontent.com (raw.githubusercontent.com)... 185.199.109.133, 185.199.110.133, 185.199.108.133, ...\n",
            "Connecting to raw.githubusercontent.com (raw.githubusercontent.com)|185.199.109.133|:443... connected.\n",
            "HTTP request sent, awaiting response... 200 OK\n",
            "Length: 894456 (873K) [text/plain]\n",
            "Saving to: ‘sentiment-analysis-on-movie-reviews-refined.txt’\n",
            "\n",
            "sentiment-analysis- 100%[===================>] 873.49K  --.-KB/s    in 0.07s   \n",
            "\n",
            "2024-04-04 21:30:43 (12.5 MB/s) - ‘sentiment-analysis-on-movie-reviews-refined.txt’ saved [894456/894456]\n",
            "\n",
            "A series of escapades demonstrating the adage that what is good for the goose is also good for the gander , some of which occasionally amuses but none of which amounts to much of a story .\t1\n",
            "This quiet , introspective and entertaining independent is worth seeking .\t4\n",
            "Even fans of Ismail Merchant 's work , I suspect , would have a hard time sitting through this one .\t1\n",
            "A positively thrilling combination of ethnography and all the intrigue , betrayal , deceit and murder of a Shakespearean tragedy or a juicy soap opera .\t3\n",
            "Aggressive self-glorification and a manipulative whitewash .\t1\n",
            "A comedy-drama of nearly epic proportions rooted in a sincere performance by the title character undergoing midlife crisis .\t4\n",
            "Narratively , Trouble Every Day is a plodding mess .\t1\n",
            "The Importance of Being Earnest , so thick with wit it plays like a reading from Bartlett 's Familiar Quotations\t3\n",
            "But it does n't leave you with much .\t1\n",
            "You could hate it for the same reason .\t1\n"
          ]
        }
      ]
    },
    {
      "cell_type": "code",
      "source": [
        "!awk '{first = $NF; $NF=\"\"; print first, $0}' sentiment-analysis-on-movie-reviews-refined.txt > scored-movie.txt"
      ],
      "metadata": {
        "id": "uzSh87cABopo"
      },
      "id": "uzSh87cABopo",
      "execution_count": 72,
      "outputs": []
    },
    {
      "cell_type": "code",
      "source": [
        "!head scored-movie.txt"
      ],
      "metadata": {
        "colab": {
          "base_uri": "https://localhost:8080/"
        },
        "id": "rV3TRn4EBqnK",
        "outputId": "07d510f8-6c6d-4735-e924-26901f46cc65"
      },
      "id": "rV3TRn4EBqnK",
      "execution_count": 73,
      "outputs": [
        {
          "output_type": "stream",
          "name": "stdout",
          "text": [
            "1 A series of escapades demonstrating the adage that what is good for the goose is also good for the gander , some of which occasionally amuses but none of which amounts to much of a story . \n",
            "4 This quiet , introspective and entertaining independent is worth seeking . \n",
            "1 Even fans of Ismail Merchant 's work , I suspect , would have a hard time sitting through this one . \n",
            "3 A positively thrilling combination of ethnography and all the intrigue , betrayal , deceit and murder of a Shakespearean tragedy or a juicy soap opera . \n",
            "1 Aggressive self-glorification and a manipulative whitewash . \n",
            "4 A comedy-drama of nearly epic proportions rooted in a sincere performance by the title character undergoing midlife crisis . \n",
            "1 Narratively , Trouble Every Day is a plodding mess . \n",
            "3 The Importance of Being Earnest , so thick with wit it plays like a reading from Bartlett 's Familiar Quotations \n",
            "1 But it does n't leave you with much . \n",
            "1 You could hate it for the same reason . \n"
          ]
        }
      ]
    },
    {
      "cell_type": "code",
      "source": [
        "!sed 's/^/__label__/' scored-movie.txt  > scored-movie-labelled.txt"
      ],
      "metadata": {
        "id": "d0JdCTApBuIs"
      },
      "id": "d0JdCTApBuIs",
      "execution_count": 74,
      "outputs": []
    },
    {
      "cell_type": "code",
      "source": [
        "!head scored-movie-labelled.txt"
      ],
      "metadata": {
        "colab": {
          "base_uri": "https://localhost:8080/"
        },
        "id": "UfvIrc2PBzsG",
        "outputId": "1d6ef7e9-8e5c-4fe3-f465-e94c3eca77cb"
      },
      "id": "UfvIrc2PBzsG",
      "execution_count": 76,
      "outputs": [
        {
          "output_type": "stream",
          "name": "stdout",
          "text": [
            "__label__1 A series of escapades demonstrating the adage that what is good for the goose is also good for the gander , some of which occasionally amuses but none of which amounts to much of a story . \n",
            "__label__4 This quiet , introspective and entertaining independent is worth seeking . \n",
            "__label__1 Even fans of Ismail Merchant 's work , I suspect , would have a hard time sitting through this one . \n",
            "__label__3 A positively thrilling combination of ethnography and all the intrigue , betrayal , deceit and murder of a Shakespearean tragedy or a juicy soap opera . \n",
            "__label__1 Aggressive self-glorification and a manipulative whitewash . \n",
            "__label__4 A comedy-drama of nearly epic proportions rooted in a sincere performance by the title character undergoing midlife crisis . \n",
            "__label__1 Narratively , Trouble Every Day is a plodding mess . \n",
            "__label__3 The Importance of Being Earnest , so thick with wit it plays like a reading from Bartlett 's Familiar Quotations \n",
            "__label__1 But it does n't leave you with much . \n",
            "__label__1 You could hate it for the same reason . \n"
          ]
        }
      ]
    },
    {
      "cell_type": "code",
      "source": [
        "!wc scored-movie-labelled.txt"
      ],
      "metadata": {
        "colab": {
          "base_uri": "https://localhost:8080/"
        },
        "id": "2CrT68EBB4uA",
        "outputId": "c622b840-cce3-429d-f12d-7d4f7f229666"
      },
      "id": "2CrT68EBB4uA",
      "execution_count": 77,
      "outputs": [
        {
          "output_type": "stream",
          "name": "stdout",
          "text": [
            "  8529 170573 979744 scored-movie-labelled.txt\n"
          ]
        }
      ]
    },
    {
      "cell_type": "code",
      "source": [
        "!head -n 6829 scored-movie-labelled.txt > movie.train.txt\n",
        "!tail -n 1700 scored-movie-labelled.txt > movie.valid.txt\n",
        "!head movie.train.txt"
      ],
      "metadata": {
        "colab": {
          "base_uri": "https://localhost:8080/"
        },
        "id": "R156PRpBB-NN",
        "outputId": "aee20d3e-5c77-45a5-fe26-9747f76f2e50"
      },
      "id": "R156PRpBB-NN",
      "execution_count": 78,
      "outputs": [
        {
          "output_type": "stream",
          "name": "stdout",
          "text": [
            "__label__1 A series of escapades demonstrating the adage that what is good for the goose is also good for the gander , some of which occasionally amuses but none of which amounts to much of a story . \n",
            "__label__4 This quiet , introspective and entertaining independent is worth seeking . \n",
            "__label__1 Even fans of Ismail Merchant 's work , I suspect , would have a hard time sitting through this one . \n",
            "__label__3 A positively thrilling combination of ethnography and all the intrigue , betrayal , deceit and murder of a Shakespearean tragedy or a juicy soap opera . \n",
            "__label__1 Aggressive self-glorification and a manipulative whitewash . \n",
            "__label__4 A comedy-drama of nearly epic proportions rooted in a sincere performance by the title character undergoing midlife crisis . \n",
            "__label__1 Narratively , Trouble Every Day is a plodding mess . \n",
            "__label__3 The Importance of Being Earnest , so thick with wit it plays like a reading from Bartlett 's Familiar Quotations \n",
            "__label__1 But it does n't leave you with much . \n",
            "__label__1 You could hate it for the same reason . \n"
          ]
        }
      ]
    },
    {
      "cell_type": "code",
      "source": [
        "%cd fastText"
      ],
      "metadata": {
        "colab": {
          "base_uri": "https://localhost:8080/"
        },
        "id": "6W6L23XACs3u",
        "outputId": "b1204373-dd0b-4b71-94ab-d4eba732103d"
      },
      "id": "6W6L23XACs3u",
      "execution_count": 79,
      "outputs": [
        {
          "output_type": "stream",
          "name": "stdout",
          "text": [
            "/content/fastText\n"
          ]
        }
      ]
    },
    {
      "cell_type": "code",
      "source": [
        "!./fasttext supervised -input ../movie.train.txt -output model_movie"
      ],
      "metadata": {
        "colab": {
          "base_uri": "https://localhost:8080/"
        },
        "id": "ViaN7RN8CuHp",
        "outputId": "945308d2-ca10-40f3-8e75-e4295aa2a244"
      },
      "id": "ViaN7RN8CuHp",
      "execution_count": 80,
      "outputs": [
        {
          "output_type": "stream",
          "name": "stdout",
          "text": [
            "\rRead 0M words\n",
            "Number of words:  16092\n",
            "Number of labels: 5\n",
            "\rProgress:  79.5% words/sec/thread:  472342 lr:  0.020483 avg.loss:  1.550592 ETA:   0h 0m 0s\rProgress: 100.1% words/sec/thread:  297513 lr: -0.000070 avg.loss:  1.531726 ETA:   0h 0m 0s\rProgress: 100.0% words/sec/thread:  297190 lr:  0.000000 avg.loss:  1.531726 ETA:   0h 0m 0s\n"
          ]
        }
      ]
    },
    {
      "cell_type": "code",
      "source": [
        "!./fasttext test model_movie.bin ../movie.valid.txt"
      ],
      "metadata": {
        "colab": {
          "base_uri": "https://localhost:8080/"
        },
        "id": "HCtAEydPC6N8",
        "outputId": "e46f5fcd-07ea-4aac-a061-4c9e806c756f"
      },
      "id": "HCtAEydPC6N8",
      "execution_count": 81,
      "outputs": [
        {
          "output_type": "stream",
          "name": "stdout",
          "text": [
            "N\t1700\n",
            "P@1\t0.315\n",
            "R@1\t0.315\n"
          ]
        }
      ]
    }
  ],
  "metadata": {
    "kernelspec": {
      "display_name": "Python 3.9.6 64-bit",
      "language": "python",
      "name": "python3"
    },
    "language_info": {
      "codemirror_mode": {
        "name": "ipython",
        "version": 3
      },
      "file_extension": ".py",
      "mimetype": "text/x-python",
      "name": "python",
      "nbconvert_exporter": "python",
      "pygments_lexer": "ipython3",
      "version": "3.9.6"
    },
    "vscode": {
      "interpreter": {
        "hash": "20bf69066c0dd38d51965b69d5e1b6e387082e3198ba56e97997ac55f4e50ad0"
      }
    },
    "colab": {
      "provenance": []
    }
  },
  "nbformat": 4,
  "nbformat_minor": 5
}